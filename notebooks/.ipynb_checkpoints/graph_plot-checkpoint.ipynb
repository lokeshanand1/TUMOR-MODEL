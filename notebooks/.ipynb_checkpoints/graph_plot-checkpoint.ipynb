{
 "cells": [
  {
   "cell_type": "code",
   "execution_count": 1,
   "id": "948647fc-8ca1-4639-896e-6a81587716c0",
   "metadata": {},
   "outputs": [
    {
     "name": "stdout",
     "output_type": "stream",
     "text": [
      "Training history file not found at ../models/training_history.pkl. Please run training first.\n"
     ]
    }
   ],
   "source": [
    "import pickle\n",
    "import matplotlib.pyplot as plt\n",
    "import os\n",
    "\n",
    "# Path to the saved training history pickle file\n",
    "history_path = '../models/training_history.pkl'\n",
    "\n",
    "# Load the training history\n",
    "if not os.path.exists(history_path):\n",
    "    print(f\"Training history file not found at {history_path}. Please run training first.\")\n",
    "else:\n",
    "    with open(history_path, 'rb') as f:\n",
    "        history = pickle.load(f)\n",
    "\n",
    "    # Extract metrics\n",
    "    epochs = range(1, len(history['accuracy']) + 1)\n",
    "    train_acc = history['accuracy']\n",
    "    val_acc = history['val_accuracy']\n",
    "    train_loss = history['loss']\n",
    "    val_loss = history['val_loss']\n",
    "\n",
    "    # Plot Accuracy\n",
    "    plt.figure(figsize=(14, 6))\n",
    "\n",
    "    plt.subplot(1, 2, 1)\n",
    "    plt.plot(epochs, train_acc, 'b-', linewidth=2, label='Training Accuracy')\n",
    "    plt.plot(epochs, val_acc, 'r--', linewidth=2, label='Validation Accuracy')\n",
    "    plt.title('Adam Optimizer - Accuracy per Epoch', fontsize=14)\n",
    "    plt.xlabel('Epoch', fontsize=12)\n",
    "    plt.ylabel('Accuracy', fontsize=12)\n",
    "    plt.legend()\n",
    "    plt.grid(True)\n",
    "\n",
    "    # Plot Loss\n",
    "    plt.subplot(1, 2, 2)\n",
    "    plt.plot(epochs, train_loss, 'g-', linewidth=2, label='Training Loss')\n",
    "    plt.plot(epochs, val_loss, 'm--', linewidth=2, label='Validation Loss')\n",
    "    plt.title('Adam Optimizer - Loss per Epoch', fontsize=14)\n",
    "    plt.xlabel('Epoch', fontsize=12)\n",
    "    plt.ylabel('Loss', fontsize=12)\n",
    "    plt.legend()\n",
    "    plt.grid(True)\n",
    "\n",
    "    plt.tight_layout()\n",
    "    plt.show()"
   ]
  }
 ],
 "metadata": {
  "kernelspec": {
   "display_name": "Python 3 (ipykernel)",
   "language": "python",
   "name": "python3"
  },
  "language_info": {
   "codemirror_mode": {
    "name": "ipython",
    "version": 3
   },
   "file_extension": ".py",
   "mimetype": "text/x-python",
   "name": "python",
   "nbconvert_exporter": "python",
   "pygments_lexer": "ipython3",
   "version": "3.12.6"
  }
 },
 "nbformat": 4,
 "nbformat_minor": 5
}
